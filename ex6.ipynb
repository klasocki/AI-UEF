{
 "cells": [
  {
   "cell_type": "markdown",
   "metadata": {},
   "source": [
    "# Convolutional Neural Networks"
   ]
  },
  {
   "cell_type": "markdown",
   "metadata": {
    "ExecuteTime": {
     "end_time": "2019-10-14T05:21:52.898816Z",
     "start_time": "2019-10-14T05:21:52.892031Z"
    }
   },
   "source": [
    "**1. Classic MNIST**"
   ]
  },
  {
   "cell_type": "code",
   "execution_count": 1,
   "metadata": {
    "ExecuteTime": {
     "end_time": "2019-10-14T09:56:50.600021Z",
     "start_time": "2019-10-14T09:56:48.845560Z"
    }
   },
   "outputs": [
    {
     "name": "stderr",
     "output_type": "stream",
     "text": [
      "Using TensorFlow backend.\n"
     ]
    }
   ],
   "source": [
    "import keras\n",
    "from keras.datasets import mnist\n",
    "from keras.models import Sequential\n",
    "from keras.layers import Dense, Dropout, Flatten\n",
    "from keras.layers import Conv2D, MaxPooling2D"
   ]
  },
  {
   "cell_type": "markdown",
   "metadata": {},
   "source": [
    "Define the hyperparameters and data constants"
   ]
  },
  {
   "cell_type": "code",
   "execution_count": 2,
   "metadata": {
    "ExecuteTime": {
     "end_time": "2019-10-14T09:23:08.685006Z",
     "start_time": "2019-10-14T09:23:08.678318Z"
    }
   },
   "outputs": [],
   "source": [
    "learning_rate = .01\n",
    "batch_size = 64\n",
    "hidden_size = 128\n",
    "epochs = 10\n",
    "conv_kernel_size = (4, 4)\n",
    "pool_size = (3, 3)\n",
    "filters_first = 32\n",
    "filters_second = 16\n",
    "dropout_first = .2\n",
    "dropout_second = .3\n",
    "# input image dimensions\n",
    "img_rows, img_cols = 28, 28\n",
    "num_classes = 10"
   ]
  },
  {
   "cell_type": "markdown",
   "metadata": {},
   "source": [
    "Load and reshape the data using keras"
   ]
  },
  {
   "cell_type": "code",
   "execution_count": 3,
   "metadata": {
    "ExecuteTime": {
     "end_time": "2019-10-14T09:23:09.827941Z",
     "start_time": "2019-10-14T09:23:09.543516Z"
    }
   },
   "outputs": [],
   "source": [
    "(X_train, y_train), (X_test, y_test) = mnist.load_data()\n",
    "\n",
    "if keras.backend.image_data_format() == 'channels_first':\n",
    "    X_train = X_train.reshape(X_train.shape[0], 1, img_rows, img_cols)\n",
    "    X_test = X_test.reshape(X_test.shape[0], 1, img_rows, img_cols)\n",
    "    input_shape = (1, img_rows, img_cols)\n",
    "else:\n",
    "    X_train = X_train.reshape(X_train.shape[0], img_rows, img_cols, 1)\n",
    "    X_test = X_test.reshape(X_test.shape[0], img_rows, img_cols, 1)\n",
    "    input_shape = (img_rows, img_cols, 1)"
   ]
  },
  {
   "cell_type": "markdown",
   "metadata": {},
   "source": [
    "Normalize the data to grayscale in range [0,1] rather than [0,255] (type errors without conversion)"
   ]
  },
  {
   "cell_type": "code",
   "execution_count": 13,
   "metadata": {
    "ExecuteTime": {
     "end_time": "2019-10-14T05:31:30.046066Z",
     "start_time": "2019-10-14T05:31:29.803829Z"
    }
   },
   "outputs": [],
   "source": [
    "X_train = X_train.astype('float64')\n",
    "X_test = X_test.astype('float64')\n",
    "X_train /= 255\n",
    "X_test /= 255"
   ]
  },
  {
   "cell_type": "markdown",
   "metadata": {},
   "source": [
    "One-hot encode the labels"
   ]
  },
  {
   "cell_type": "code",
   "execution_count": 14,
   "metadata": {
    "ExecuteTime": {
     "end_time": "2019-10-14T05:36:02.376819Z",
     "start_time": "2019-10-14T05:36:02.367363Z"
    }
   },
   "outputs": [],
   "source": [
    "y_train = keras.utils.to_categorical(y_train, num_classes, dtype='float64')\n",
    "y_test = keras.utils.to_categorical(y_test, num_classes, dtype='float64')"
   ]
  },
  {
   "cell_type": "markdown",
   "metadata": {},
   "source": [
    "Define the model"
   ]
  },
  {
   "cell_type": "code",
   "execution_count": 23,
   "metadata": {
    "ExecuteTime": {
     "end_time": "2019-10-14T06:00:36.386186Z",
     "start_time": "2019-10-14T06:00:36.251746Z"
    }
   },
   "outputs": [],
   "source": [
    "model = Sequential()\n",
    "model.add(Conv2D(\n",
    "    filters=filters_first, \n",
    "    kernel_size=conv_kernel_size,\n",
    "    activation='relu',\n",
    "    input_shape=input_shape\n",
    "))\n",
    "model.add(Conv2D(filters_second, conv_kernel_size, activation='relu'))\n",
    "model.add(MaxPooling2D(pool_size=pool_size))\n",
    "model.add(Dropout(rate=dropout_first))\n",
    "model.add(Flatten())\n",
    "model.add(Dense(units=hidden_size, activation='relu'))\n",
    "model.add(Dropout(dropout_second))\n",
    "model.add(Dense(num_classes, activation='softmax'))\n",
    "\n",
    "model.compile(loss=keras.losses.categorical_crossentropy,\n",
    "              optimizer=keras.optimizers.Adam(learning_rate=learning_rate),\n",
    "              metrics=['accuracy'])"
   ]
  },
  {
   "cell_type": "markdown",
   "metadata": {},
   "source": [
    "Train and evaluate the model"
   ]
  },
  {
   "cell_type": "code",
   "execution_count": 24,
   "metadata": {
    "ExecuteTime": {
     "end_time": "2019-10-14T06:15:44.356262Z",
     "start_time": "2019-10-14T06:00:37.654179Z"
    }
   },
   "outputs": [
    {
     "name": "stdout",
     "output_type": "stream",
     "text": [
      "Train on 60000 samples, validate on 10000 samples\n",
      "Epoch 1/10\n",
      "60000/60000 [==============================] - 89s 1ms/step - loss: 0.1851 - accuracy: 0.9445 - val_loss: 0.0612 - val_accuracy: 0.9802\n",
      "Epoch 2/10\n",
      "60000/60000 [==============================] - 93s 2ms/step - loss: 0.1120 - accuracy: 0.9674 - val_loss: 0.0679 - val_accuracy: 0.9801\n",
      "Epoch 3/10\n",
      "60000/60000 [==============================] - 94s 2ms/step - loss: 0.1125 - accuracy: 0.9684 - val_loss: 0.0496 - val_accuracy: 0.9845\n",
      "Epoch 4/10\n",
      "60000/60000 [==============================] - 91s 2ms/step - loss: 0.1026 - accuracy: 0.9710 - val_loss: 0.0679 - val_accuracy: 0.9830\n",
      "Epoch 5/10\n",
      "60000/60000 [==============================] - 89s 1ms/step - loss: 0.1043 - accuracy: 0.9712 - val_loss: 0.0446 - val_accuracy: 0.9849\n",
      "Epoch 6/10\n",
      "60000/60000 [==============================] - 87s 1ms/step - loss: 0.0994 - accuracy: 0.9730 - val_loss: 0.0469 - val_accuracy: 0.9859\n",
      "Epoch 7/10\n",
      "60000/60000 [==============================] - 88s 1ms/step - loss: 0.0973 - accuracy: 0.9737 - val_loss: 0.0495 - val_accuracy: 0.9864\n",
      "Epoch 8/10\n",
      "60000/60000 [==============================] - 90s 2ms/step - loss: 0.0961 - accuracy: 0.9742 - val_loss: 0.0482 - val_accuracy: 0.9846\n",
      "Epoch 9/10\n",
      "60000/60000 [==============================] - 90s 2ms/step - loss: 0.0992 - accuracy: 0.9730 - val_loss: 0.0611 - val_accuracy: 0.9826\n",
      "Epoch 10/10\n",
      "60000/60000 [==============================] - 91s 2ms/step - loss: 0.0850 - accuracy: 0.9772 - val_loss: 0.0511 - val_accuracy: 0.9854\n",
      "Test loss: 0.05110342995434075\n",
      "Test accuracy: 0.9854000210762024\n"
     ]
    }
   ],
   "source": [
    "model.fit(X_train, y_train,\n",
    "          batch_size=batch_size,\n",
    "          epochs=epochs,\n",
    "          verbose=1,\n",
    "          validation_data=(X_test, y_test))\n",
    "score = model.evaluate(X_test, y_test, verbose=0)\n",
    "print('Test loss:', score[0])\n",
    "print('Test accuracy:', score[1])"
   ]
  },
  {
   "cell_type": "markdown",
   "metadata": {},
   "source": [
    "Get the incorrectly predicted samples, argmax used to obtain predicted class"
   ]
  },
  {
   "cell_type": "code",
   "execution_count": 2,
   "metadata": {
    "ExecuteTime": {
     "end_time": "2019-10-14T09:56:58.161573Z",
     "start_time": "2019-10-14T09:56:58.156795Z"
    }
   },
   "outputs": [],
   "source": [
    "import numpy as np"
   ]
  },
  {
   "cell_type": "code",
   "execution_count": 48,
   "metadata": {
    "ExecuteTime": {
     "end_time": "2019-10-14T08:46:03.138939Z",
     "start_time": "2019-10-14T08:45:59.359312Z"
    }
   },
   "outputs": [],
   "source": [
    "predicted = model.predict(X_test)\n",
    "predicted_classes = np.array([np.argmax(p) for p in predicted])\n",
    "true_classes = np.array([np.argmax(y) for y in y_test])"
   ]
  },
  {
   "cell_type": "code",
   "execution_count": 54,
   "metadata": {
    "ExecuteTime": {
     "end_time": "2019-10-14T08:46:47.416944Z",
     "start_time": "2019-10-14T08:46:47.405972Z"
    }
   },
   "outputs": [],
   "source": [
    "incorrect_indices = np.nonzero(predicted_classes != true_classes)[0]"
   ]
  },
  {
   "cell_type": "code",
   "execution_count": 55,
   "metadata": {
    "ExecuteTime": {
     "end_time": "2019-10-14T08:46:56.685408Z",
     "start_time": "2019-10-14T08:46:56.674095Z"
    }
   },
   "outputs": [
    {
     "data": {
      "text/plain": [
       "146"
      ]
     },
     "execution_count": 55,
     "metadata": {},
     "output_type": "execute_result"
    }
   ],
   "source": [
    "len(incorrect_indices)"
   ]
  },
  {
   "cell_type": "code",
   "execution_count": 58,
   "metadata": {
    "ExecuteTime": {
     "end_time": "2019-10-14T08:47:38.424823Z",
     "start_time": "2019-10-14T08:47:38.408556Z"
    }
   },
   "outputs": [
    {
     "data": {
      "text/plain": [
       "0.9854"
      ]
     },
     "execution_count": 58,
     "metadata": {},
     "output_type": "execute_result"
    }
   ],
   "source": [
    "(10000 - len(incorrect_indices) )/ 10000"
   ]
  },
  {
   "cell_type": "markdown",
   "metadata": {},
   "source": [
    "The accuracy matches training report, so the incorrect examples have been correctly identified"
   ]
  },
  {
   "cell_type": "markdown",
   "metadata": {},
   "source": [
    "Plot some of the incorrect examples"
   ]
  },
  {
   "cell_type": "code",
   "execution_count": 3,
   "metadata": {
    "ExecuteTime": {
     "end_time": "2019-10-14T09:57:01.803126Z",
     "start_time": "2019-10-14T09:57:01.634834Z"
    }
   },
   "outputs": [],
   "source": [
    "from matplotlib import pyplot as plt\n",
    "%matplotlib inline"
   ]
  },
  {
   "cell_type": "code",
   "execution_count": 82,
   "metadata": {
    "ExecuteTime": {
     "end_time": "2019-10-14T09:01:05.726700Z",
     "start_time": "2019-10-14T09:00:59.805584Z"
    }
   },
   "outputs": [
    {
     "data": {
      "image/png": "[encoded data removed]",
      "text/plain": [
       "<Figure size 432x288 with 1 Axes>"
      ]
     },
     "metadata": {
      "needs_background": "light"
     },
     "output_type": "display_data"
    },
    {
     "data": {
      "image/png": "[encoded data removed]",
      "text/plain": [
       "<Figure size 432x288 with 1 Axes>"
      ]
     },
     "metadata": {
      "needs_background": "light"
     },
     "output_type": "display_data"
    },
    {
     "data": {
      "image/png": "[encoded data removed]",
      "text/plain": [
       "<Figure size 432x288 with 1 Axes>"
      ]
     },
     "metadata": {
      "needs_background": "light"
     },
     "output_type": "display_data"
    },
    {
     "data": {
      "image/png": "[encoded data removed]",
      "text/plain": [
       "<Figure size 432x288 with 1 Axes>"
      ]
     },
     "metadata": {
      "needs_background": "light"
     },
     "output_type": "display_data"
    },
    {
     "data": {
      "image/png": "[encoded data removed]",
      "text/plain": [
       "<Figure size 432x288 with 1 Axes>"
      ]
     },
     "metadata": {
      "needs_background": "light"
     },
     "output_type": "display_data"
    },
    {
     "data": {
      "image/png": "[encoded data removed]",
      "text/plain": [
       "<Figure size 432x288 with 1 Axes>"
      ]
     },
     "metadata": {
      "needs_background": "light"
     },
     "output_type": "display_data"
    },
    {
     "data": {
      "image/png": "[encoded data removed]",
      "text/plain": [
       "<Figure size 432x288 with 1 Axes>"
      ]
     },
     "metadata": {
      "needs_background": "light"
     },
     "output_type": "display_data"
    },
    {
     "data": {
      "image/png": "[encoded data removed]",
      "text/plain": [
       "<Figure size 432x288 with 1 Axes>"
      ]
     },
     "metadata": {
      "needs_background": "light"
     },
     "output_type": "display_data"
    },
    {
     "data": {
      "image/png": "[encoded data removed]",
      "text/plain": [
       "<Figure size 432x288 with 1 Axes>"
      ]
     },
     "metadata": {
      "needs_background": "light"
     },
     "output_type": "display_data"
    },
    {
     "data": {
      "image/png": "[encoded data removed]",
      "text/plain": [
       "<Figure size 432x288 with 1 Axes>"
      ]
     },
     "metadata": {
      "needs_background": "light"
     },
     "output_type": "display_data"
    },
    {
     "data": {
      "image/png": "[encoded data removed]",
      "text/plain": [
       "<Figure size 432x288 with 1 Axes>"
      ]
     },
     "metadata": {
      "needs_background": "light"
     },
     "output_type": "display_data"
    },
    {
     "data": {
      "image/png": "[encoded data removed]",
      "text/plain": [
       "<Figure size 432x288 with 1 Axes>"
      ]
     },
     "metadata": {
      "needs_background": "light"
     },
     "output_type": "display_data"
    },
    {
     "data": {
      "image/png": "[encoded data removed]",
      "text/plain": [
       "<Figure size 432x288 with 1 Axes>"
      ]
     },
     "metadata": {
      "needs_background": "light"
     },
     "output_type": "display_data"
    },
    {
     "data": {
      "image/png": "[encoded data removed]",
      "text/plain": [
       "<Figure size 432x288 with 1 Axes>"
      ]
     },
     "metadata": {
      "needs_background": "light"
     },
     "output_type": "display_data"
    },
    {
     "data": {
      "image/png": "[encoded data removed]",
      "text/plain": [
       "<Figure size 432x288 with 1 Axes>"
      ]
     },
     "metadata": {
      "needs_background": "light"
     },
     "output_type": "display_data"
    },
    {
     "data": {
      "image/png": "[encoded data removed]",
      "text/plain": [
       "<Figure size 432x288 with 1 Axes>"
      ]
     },
     "metadata": {
      "needs_background": "light"
     },
     "output_type": "display_data"
    },
    {
     "data": {
      "image/png": "[encoded data removed]",
      "text/plain": [
       "<Figure size 432x288 with 1 Axes>"
      ]
     },
     "metadata": {
      "needs_background": "light"
     },
     "output_type": "display_data"
    },
    {
     "data": {
      "image/png": "[encoded data removed]",
      "text/plain": [
       "<Figure size 432x288 with 1 Axes>"
      ]
     },
     "metadata": {
      "needs_background": "light"
     },
     "output_type": "display_data"
    },
    {
     "data": {
      "image/png": "[encoded data removed]",
      "text/plain": [
       "<Figure size 432x288 with 1 Axes>"
      ]
     },
     "metadata": {
      "needs_background": "light"
     },
     "output_type": "display_data"
    },
    {
     "data": {
      "image/png": "[encoded data removed]",
      "text/plain": [
       "<Figure size 432x288 with 1 Axes>"
      ]
     },
     "metadata": {
      "needs_background": "light"
     },
     "output_type": "display_data"
    }
   ],
   "source": [
    "indices = np.random.choice(incorrect_indices, 20)\n",
    "for indice in indices:\n",
    "    plt.figure()\n",
    "    plt.imshow(np.reshape(X_test[indice], (28,28)))"
   ]
  },
  {
   "cell_type": "markdown",
   "metadata": {},
   "source": [
    "**Dogs vs cats (https://www.kaggle.com/c/dogs-vs-cats/data)**"
   ]
  },
  {
   "cell_type": "markdown",
   "metadata": {},
   "source": [
    "Load the data and obtain class labels, dog is 1, cat is 0"
   ]
  },
  {
   "cell_type": "code",
   "execution_count": 11,
   "metadata": {
    "ExecuteTime": {
     "end_time": "2019-10-14T10:02:11.189999Z",
     "start_time": "2019-10-14T10:02:11.158559Z"
    }
   },
   "outputs": [],
   "source": [
    "import pandas as pd\n",
    "import os\n",
    "import cv2"
   ]
  },
  {
   "cell_type": "code",
   "execution_count": 12,
   "metadata": {
    "ExecuteTime": {
     "end_time": "2019-10-14T10:02:49.217659Z",
     "start_time": "2019-10-14T10:02:49.208612Z"
    }
   },
   "outputs": [],
   "source": [
    "path = 'data/cats-dogs-data/'"
   ]
  },
  {
   "cell_type": "code",
   "execution_count": 26,
   "metadata": {
    "ExecuteTime": {
     "end_time": "2019-10-14T10:07:34.550989Z",
     "start_time": "2019-10-14T10:07:34.543104Z"
    }
   },
   "outputs": [],
   "source": [
    "X = []\n",
    "y = []\n",
    "convert = lambda category : float(category == 'dog')"
   ]
  },
  {
   "cell_type": "code",
   "execution_count": 30,
   "metadata": {
    "ExecuteTime": {
     "end_time": "2019-10-14T10:10:19.012652Z",
     "start_time": "2019-10-14T10:09:54.780692Z"
    }
   },
   "outputs": [],
   "source": [
    "img_size = (90, 90)\n",
    "for file in os.listdir(path):\n",
    "    category: str = file.split(\".\")[0]\n",
    "    category: float = convert(category)\n",
    "    img: np.array = cv2.imread(path + file, cv2.IMREAD_GRAYSCALE)\n",
    "# resize the images using interpolation, to make all of them same sized\n",
    "    new_img: np.array = cv2.resize(img, dsize=img_size)\n",
    "    X.append(new_img)\n",
    "    y.append(category)"
   ]
  },
  {
   "cell_type": "markdown",
   "metadata": {},
   "source": [
    "Reshape and normalize the training data to conform to Conv layer requirements"
   ]
  },
  {
   "cell_type": "code",
   "execution_count": 35,
   "metadata": {
    "ExecuteTime": {
     "end_time": "2019-10-14T10:15:32.068509Z",
     "start_time": "2019-10-14T10:15:30.743161Z"
    }
   },
   "outputs": [],
   "source": [
    "X = (np.array(X, dtype='float64') / 255).reshape(-1, img_size[0], img_size[1], 1)\n",
    "y = np.array(y)"
   ]
  },
  {
   "cell_type": "code",
   "execution_count": 38,
   "metadata": {
    "ExecuteTime": {
     "end_time": "2019-10-14T10:15:44.956763Z",
     "start_time": "2019-10-14T10:15:44.950195Z"
    }
   },
   "outputs": [
    {
     "data": {
      "text/plain": [
       "0.0"
      ]
     },
     "execution_count": 38,
     "metadata": {},
     "output_type": "execute_result"
    }
   ],
   "source": [
    "y[235]"
   ]
  },
  {
   "cell_type": "markdown",
   "metadata": {},
   "source": [
    "Define the model and hyperparameters"
   ]
  },
  {
   "cell_type": "code",
   "execution_count": 42,
   "metadata": {
    "ExecuteTime": {
     "end_time": "2019-10-14T10:21:17.581539Z",
     "start_time": "2019-10-14T10:21:17.575300Z"
    }
   },
   "outputs": [],
   "source": [
    "learning_rate = .01\n",
    "batch_size = 64\n",
    "hidden_size = 128\n",
    "epochs = 10\n",
    "conv_kernel_size = (4, 4)\n",
    "pool_size = (3, 3)\n",
    "filters_first = 32\n",
    "filters_second = 16\n",
    "dropout_first = .2\n",
    "dropout_second = .3\n",
    "# input image dimensions\n",
    "img_rows, img_cols = 90, 90\n",
    "input_shape = (img_rows, img_cols, 1)\n",
    "\n",
    "validation_split = .2"
   ]
  },
  {
   "cell_type": "code",
   "execution_count": 45,
   "metadata": {
    "ExecuteTime": {
     "end_time": "2019-10-14T10:21:58.943089Z",
     "start_time": "2019-10-14T10:21:58.799568Z"
    }
   },
   "outputs": [],
   "source": [
    "model = Sequential()\n",
    "model.add(Conv2D(\n",
    "    filters=filters_first, \n",
    "    kernel_size=conv_kernel_size,\n",
    "    activation='relu',\n",
    "    input_shape=input_shape\n",
    "))\n",
    "model.add(Conv2D(filters_second, conv_kernel_size, activation='relu'))\n",
    "model.add(MaxPooling2D(pool_size=pool_size))\n",
    "model.add(Dropout(rate=dropout_first))\n",
    "model.add(Flatten())\n",
    "model.add(Dense(units=hidden_size, activation='relu'))\n",
    "model.add(Dropout(dropout_second))\n",
    "model.add(Dense(1, activation='sigmoid'))\n",
    "\n",
    "model.compile(loss=keras.losses.binary_crossentropy,\n",
    "              optimizer=keras.optimizers.Adadelta(),\n",
    "              metrics=['accuracy'])"
   ]
  },
  {
   "cell_type": "markdown",
   "metadata": {},
   "source": [
    "Train the model"
   ]
  },
  {
   "cell_type": "code",
   "execution_count": 46,
   "metadata": {
    "ExecuteTime": {
     "end_time": "2019-10-14T11:58:40.432459Z",
     "start_time": "2019-10-14T10:21:59.710175Z"
    }
   },
   "outputs": [
    {
     "name": "stdout",
     "output_type": "stream",
     "text": [
      "Train on 20000 samples, validate on 5000 samples\n",
      "Epoch 1/10\n",
      "20000/20000 [==============================] - 433s 22ms/step - loss: 0.6762 - accuracy: 0.5734 - val_loss: 0.6345 - val_accuracy: 0.6778\n",
      "Epoch 2/10\n",
      "20000/20000 [==============================] - 422s 21ms/step - loss: 0.5839 - accuracy: 0.6941 - val_loss: 0.5603 - val_accuracy: 0.7106\n",
      "Epoch 3/10\n",
      "20000/20000 [==============================] - 411s 21ms/step - loss: 0.5196 - accuracy: 0.7443 - val_loss: 0.5552 - val_accuracy: 0.7102\n",
      "Epoch 4/10\n",
      "20000/20000 [==============================] - 408s 20ms/step - loss: 0.4675 - accuracy: 0.7763 - val_loss: 0.4792 - val_accuracy: 0.7660\n",
      "Epoch 5/10\n",
      "20000/20000 [==============================] - 579s 29ms/step - loss: 0.4240 - accuracy: 0.8059 - val_loss: 0.5049 - val_accuracy: 0.7534\n",
      "Epoch 6/10\n",
      "20000/20000 [==============================] - 758s 38ms/step - loss: 0.3790 - accuracy: 0.8337 - val_loss: 0.4697 - val_accuracy: 0.7834\n",
      "Epoch 7/10\n",
      "20000/20000 [==============================] - 542s 27ms/step - loss: 0.3312 - accuracy: 0.8573 - val_loss: 0.4936 - val_accuracy: 0.7734\n",
      "Epoch 8/10\n",
      "20000/20000 [==============================] - 402s 20ms/step - loss: 0.2774 - accuracy: 0.8831 - val_loss: 0.4979 - val_accuracy: 0.7864\n",
      "Epoch 9/10\n",
      "20000/20000 [==============================] - 1410s 71ms/step - loss: 0.2172 - accuracy: 0.9129 - val_loss: 0.5293 - val_accuracy: 0.7828\n",
      "Epoch 10/10\n",
      "20000/20000 [==============================] - 434s 22ms/step - loss: 0.1681 - accuracy: 0.9338 - val_loss: 0.6084 - val_accuracy: 0.7782\n"
     ]
    },
    {
     "data": {
      "text/plain": [
       "<keras.callbacks.callbacks.History at 0x7faab4b47160>"
      ]
     },
     "execution_count": 46,
     "metadata": {},
     "output_type": "execute_result"
    }
   ],
   "source": [
    "model.fit(X, y, epochs=epochs, batch_size=batch_size, validation_split=validation_split)"
   ]
  },
  {
   "cell_type": "markdown",
   "metadata": {},
   "source": [
    "Best recorded accuracy is 0.7864, which is much better than guessing at 0.5, but still far from the state-of-the-art"
   ]
  },
  {
   "cell_type": "code",
   "execution_count": null,
   "metadata": {},
   "outputs": [],
   "source": []
  }
 ],
 "metadata": {
  "kernelspec": {
   "display_name": "Python 3",
   "language": "python",
   "name": "python3"
  },
  "language_info": {
   "codemirror_mode": {
    "name": "ipython",
    "version": 3
   },
   "file_extension": ".py",
   "mimetype": "text/x-python",
   "name": "python",
   "nbconvert_exporter": "python",
   "pygments_lexer": "ipython3",
   "version": "3.6.8"
  },
  "varInspector": {
   "cols": {
    "lenName": 16,
    "lenType": 16,
    "lenVar": 40
   },
   "kernels_config": {
    "python": {
     "delete_cmd_postfix": "",
     "delete_cmd_prefix": "del ",
     "library": "var_list.py",
     "varRefreshCmd": "print(var_dic_list())"
    },
    "r": {
     "delete_cmd_postfix": ") ",
     "delete_cmd_prefix": "rm(",
     "library": "var_list.r",
     "varRefreshCmd": "cat(var_dic_list()) "
    }
   },
   "types_to_exclude": [
    "module",
    "function",
    "builtin_function_or_method",
    "instance",
    "_Feature"
   ],
   "window_display": false
  }
 },
 "nbformat": 4,
 "nbformat_minor": 2
}
